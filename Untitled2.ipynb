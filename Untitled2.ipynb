{
  "nbformat": 4,
  "nbformat_minor": 0,
  "metadata": {
    "colab": {
      "provenance": [],
      "authorship_tag": "ABX9TyOg7bmoCrgek13huMgZfYEH",
      "include_colab_link": true
    },
    "kernelspec": {
      "name": "python3",
      "display_name": "Python 3"
    },
    "language_info": {
      "name": "python"
    }
  },
  "cells": [
    {
      "cell_type": "markdown",
      "metadata": {
        "id": "view-in-github",
        "colab_type": "text"
      },
      "source": [
        "<a href=\"https://colab.research.google.com/github/supriyabaghel46/Python-basics/blob/main/Untitled2.ipynb\" target=\"_parent\"><img src=\"https://colab.research.google.com/assets/colab-badge.svg\" alt=\"Open In Colab\"/></a>"
      ]
    },
    {
      "cell_type": "code",
      "execution_count": null,
      "metadata": {
        "id": "qaerY7Yilrsg"
      },
      "outputs": [],
      "source": [
        "#python coding practice"
      ]
    },
    {
      "cell_type": "code",
      "source": [
        "#adding two no.s taking user input\n",
        "num1 = float(input(\"enter 1st no.s:\"))\n",
        "num2 = float(input(\"enter 2nd no.s\"))"
      ],
      "metadata": {
        "colab": {
          "base_uri": "https://localhost:8080/"
        },
        "id": "c16w6o41l7sb",
        "outputId": "ec20012f-0c3a-4fcf-fdef-3564156725ab"
      },
      "execution_count": null,
      "outputs": [
        {
          "name": "stdout",
          "output_type": "stream",
          "text": [
            "enter 1st no.s:3\n",
            "enter 2nd no.s4\n"
          ]
        }
      ]
    },
    {
      "cell_type": "code",
      "source": [
        "print(\"the sum of two nos. is \", num1+num2)"
      ],
      "metadata": {
        "colab": {
          "base_uri": "https://localhost:8080/"
        },
        "id": "yw-T4ElfmHgM",
        "outputId": "a8eee2d0-045d-4701-fc3d-a470e5924abe"
      },
      "execution_count": null,
      "outputs": [
        {
          "output_type": "stream",
          "name": "stdout",
          "text": [
            "the sum of two nos. is  7.0\n"
          ]
        }
      ]
    },
    {
      "cell_type": "code",
      "source": [
        "# to find the square root of the nos."
      ],
      "metadata": {
        "id": "s8FvH4xwmOoq"
      },
      "execution_count": null,
      "outputs": []
    },
    {
      "cell_type": "code",
      "source": [
        "number = float(input(\"enter the no.\"))\n",
        "square = number**(0.5)\n",
        "print(\"the square root of the no. is :\",square)"
      ],
      "metadata": {
        "colab": {
          "base_uri": "https://localhost:8080/"
        },
        "id": "uy0eQKgzmfWI",
        "outputId": "15600988-a5b7-42b6-d93d-22a7029aed17"
      },
      "execution_count": null,
      "outputs": [
        {
          "output_type": "stream",
          "name": "stdout",
          "text": [
            "enter the no.64\n",
            "the square root of the no. is : 8.0\n"
          ]
        }
      ]
    },
    {
      "cell_type": "code",
      "source": [
        "#using math module\n",
        "import math\n",
        "num = int(input(\"enter the no.\"))\n",
        "sr = math.sqrt(num)\n",
        "print(\"the square root of the no. is \", sr)"
      ],
      "metadata": {
        "colab": {
          "base_uri": "https://localhost:8080/"
        },
        "id": "e7eJO0AZmmGw",
        "outputId": "7e4c33d8-a457-46ba-bb17-69358ef683da"
      },
      "execution_count": null,
      "outputs": [
        {
          "output_type": "stream",
          "name": "stdout",
          "text": [
            "enter the no.81\n",
            "the square root of the no. is  9.0\n"
          ]
        }
      ]
    },
    {
      "cell_type": "code",
      "source": [
        "#to calculate the area of the triangle\n",
        "height = float(input(\"enter the height of the triangle:\"))\n",
        "base = float(input(\"enter the base of the triangle:\"))\n",
        "area = 1/2 * base * height\n",
        "print(\"the area of the triangle is :\",area)"
      ],
      "metadata": {
        "colab": {
          "base_uri": "https://localhost:8080/"
        },
        "id": "XiKM07wtosxa",
        "outputId": "a5be47ea-014c-4c87-e571-614f6f5e61ca"
      },
      "execution_count": null,
      "outputs": [
        {
          "output_type": "stream",
          "name": "stdout",
          "text": [
            "enter the height of the triangle:34\n",
            "enter the base of the triangle:45\n",
            "the area of the triangle is : 765.0\n"
          ]
        }
      ]
    },
    {
      "cell_type": "code",
      "source": [
        "#to swap two no. using third variable\n",
        "a = int(input(\"enter the 1st no\"))\n",
        "b = int(input('enter the 2nd no.'))\n",
        "c = a\n",
        "a=b\n",
        "b=c\n",
        "print(a,b)\n"
      ],
      "metadata": {
        "colab": {
          "base_uri": "https://localhost:8080/"
        },
        "id": "II7zwp1vpGQR",
        "outputId": "21fb9f32-a916-44b2-8912-5fea1e763614"
      },
      "execution_count": null,
      "outputs": [
        {
          "output_type": "stream",
          "name": "stdout",
          "text": [
            "enter the 1st no2\n",
            "enter the 2nd no.5\n",
            "5 2\n"
          ]
        }
      ]
    },
    {
      "cell_type": "code",
      "source": [
        "#to swap two nos. without using two no.s\n",
        "a = int(input(\"enter the 1st no.\"))\n",
        "b = int(input(\"enter the 2nd no.\"))\n",
        "a,b = b,a\n",
        "print(\"the value of no. a is \", a)\n",
        "print(\"the value of no. b is \", b)\n"
      ],
      "metadata": {
        "colab": {
          "base_uri": "https://localhost:8080/"
        },
        "id": "sK86w--ytm7t",
        "outputId": "c1b2ef52-c61e-48c1-92a2-89b978a5ce8c"
      },
      "execution_count": null,
      "outputs": [
        {
          "output_type": "stream",
          "name": "stdout",
          "text": [
            "enter the 1st no.6\n",
            "enter the 2nd no.5\n",
            "the value of no. a is  5\n",
            "the value of no. b is  6\n"
          ]
        }
      ]
    },
    {
      "cell_type": "code",
      "source": [
        "# to convert kilometers to miles\n",
        "z= float(input(\"enter the kilometers\"))\n",
        "miles = z * 0.621371\n",
        "print(miles)"
      ],
      "metadata": {
        "colab": {
          "base_uri": "https://localhost:8080/"
        },
        "id": "RN7vcKAjwT6p",
        "outputId": "3f9171ae-11d4-45f0-e973-6e256a472c91"
      },
      "execution_count": null,
      "outputs": [
        {
          "output_type": "stream",
          "name": "stdout",
          "text": [
            "enter the kilometers3\n",
            "1.8641130000000001\n"
          ]
        }
      ]
    },
    {
      "cell_type": "code",
      "source": [
        "# program to check if the no. is negative positive or zero\n",
        "num = 0\n",
        "if num>0:\n",
        "  print(\"it's positive \")\n",
        "elif num<0:\n",
        "  print(\"it's a negative\")\n",
        "else:\n",
        "  print(\"its zero\")"
      ],
      "metadata": {
        "colab": {
          "base_uri": "https://localhost:8080/"
        },
        "id": "zn5ZWIjCxx1R",
        "outputId": "a9cd0810-f930-4871-9c1d-ba84976010c0"
      },
      "execution_count": null,
      "outputs": [
        {
          "output_type": "stream",
          "name": "stdout",
          "text": [
            "its zero\n"
          ]
        }
      ]
    },
    {
      "cell_type": "code",
      "source": [
        "#program to check it the no. is odd or even\n",
        "x= float(input(\"enter the no.\"))\n",
        "if x%2==0:\n",
        "  print(\"it is even\")\n",
        "else:\n",
        "  print(\"it is odd\")"
      ],
      "metadata": {
        "colab": {
          "base_uri": "https://localhost:8080/"
        },
        "id": "VMbUipjtyCL7",
        "outputId": "f4564c43-9159-4dda-8d45-77ba71bf9ed0"
      },
      "execution_count": null,
      "outputs": [
        {
          "output_type": "stream",
          "name": "stdout",
          "text": [
            "enter the no.3\n",
            "it is odd\n"
          ]
        }
      ]
    },
    {
      "cell_type": "code",
      "source": [
        "#program to check for leap year\n",
        "year = 1996\n",
        "if(year%100==0) and (year%400==0):\n",
        "  print(\"it's a leap year\")\n",
        "elif(year%4==0) and (year%100!=0):\n",
        "  print(\"it's a leap year\")\n",
        "else:\n",
        "  print(\"it's not a leap year\")"
      ],
      "metadata": {
        "colab": {
          "base_uri": "https://localhost:8080/"
        },
        "id": "V2D0IFqo0B4L",
        "outputId": "7fe58398-5737-4cbe-b5eb-b5d65af2149c"
      },
      "execution_count": null,
      "outputs": [
        {
          "output_type": "stream",
          "name": "stdout",
          "text": [
            "it's a leap year\n"
          ]
        }
      ]
    },
    {
      "cell_type": "code",
      "source": [
        "#python program to find the largest among three no.s\n",
        "num1 = int(input(\"enter the first no.\"))\n",
        "num2 = int(input(\"enter the second no.\"))\n",
        "num3 = int(input(\"enter the third no.\"))\n",
        "if(num1>num2) and (num2>num3):\n",
        "  print(\"num1 is the greatest\")\n",
        "elif(num2>num1) and (num1>num3):\n",
        "  print(\"num2 is the greatest\")\n",
        "elif(num3>num1) and (num1>num2):\n",
        "  print(\"num3 is the greatest\")\n",
        "else:\n",
        "  print(\"all are equal\")"
      ],
      "metadata": {
        "colab": {
          "base_uri": "https://localhost:8080/"
        },
        "id": "Abtd18rj3my4",
        "outputId": "45503479-6cae-4f2a-d503-d0b8da7c1c8c"
      },
      "execution_count": null,
      "outputs": [
        {
          "output_type": "stream",
          "name": "stdout",
          "text": [
            "enter the first no.0\n",
            "enter the second no.0\n",
            "enter the third no.0\n",
            "all are equal\n"
          ]
        }
      ]
    },
    {
      "cell_type": "code",
      "source": [
        "# program to check if the no. is prime or not\n",
        "num = int(input(\"enter the no.\"))\n",
        "if num > 1:\n",
        "  for i in range(2,num):\n",
        "      if(num%i==0):\n",
        "        print(\"it's not a prime number\")\n",
        "        break\n",
        "  else: # This 'else' belongs to the 'for' loop\n",
        "    print(\"it's a prime number\")\n",
        "elif num == 1:\n",
        "  print(\"it's not a prime number\") # 1 is not a prime number by definition\n",
        "else:\n",
        "  print(\"it's not a prime number\") # Numbers less than or equal to 1 are not prime"
      ],
      "metadata": {
        "colab": {
          "base_uri": "https://localhost:8080/"
        },
        "id": "-n0G0vd_4ZVB",
        "outputId": "4a41f914-07b3-4231-f6ec-45ff50025244"
      },
      "execution_count": null,
      "outputs": [
        {
          "output_type": "stream",
          "name": "stdout",
          "text": [
            "enter the no.12\n",
            "it's not a prime number\n"
          ]
        }
      ]
    },
    {
      "cell_type": "code",
      "source": [],
      "metadata": {
        "id": "OUW2LeOaGOR5"
      },
      "execution_count": null,
      "outputs": []
    }
  ]
}